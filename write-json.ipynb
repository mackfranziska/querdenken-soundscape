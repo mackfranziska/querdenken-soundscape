{
 "cells": [
  {
   "cell_type": "code",
   "execution_count": 130,
   "metadata": {},
   "outputs": [],
   "source": [
    "import pandas\n",
    "import numpy\n",
    "\n",
    "names = ['Michael Wendler', 'Xavier Naidoo', 'Aktivist Mann', 'Attila Hildmann', 'Eva Rosen', \n",
    "         'Heiko Schrang', 'Miriam Hope', 'Michael Ballweg', 'Nana Domena',\n",
    "         'Samuel Eckert', 'Bodo Schiffmann', 'Markus Haintz', 'Ken Jebsen',\n",
    "         'Sebastian Verboket', 'Milena Preradovic', ' Wolfgang Greulich',\n",
    "         'Rainer Fuellmich', 'Ralf Ludwig', 'Friedemann Däbnitz', 'Alexander Ehrlich',\n",
    "         'Wolfgang Wodarg', 'Eva Herman', ' Oliver Janich', 'Thorsten Schulte']\n",
    "\n",
    "channels = ['t.me/WENDLER', 't.me/Xavier_Naidoo', 't.me/aktivistmann', 't.me/ATTILAHILDMAN', 't.me/evarosen', \n",
    "         't.me/Schrang_TV', 't.me/MiriamHope', 't.me/querdenken_711', 't.me/nana_lifestyler',\n",
    "         't.me/samueleckert', 't.me/AllesAusserMainstream', 't.me/Haintz', 't.me/KenFM',\n",
    "         't.me/CoronaFakten', 't.me/Punkt.Preradovic', 't.me/Wolfmut_Tiefgang',\n",
    "         't.me/RAFuellmich', 't.me/RALudwig', 't.me/RA_Däbnitz', 't.me/honkforhope',\n",
    "         't.me/wordarg', 't.me/Eva_Herman_OFFICIAL', 't.me/JANICHOFFICIAL', 't.me/Silberjunge']\n",
    "\n",
    "paths = ['files/wendler-impfung.mp3', 'files/xavier-singt.mp3', 'files/aktivist-mann.mp3',\n",
    "        'files/attila-antisemitism.mp3', 'files/eva-appell.mp3', 'files/heiko-impfung.mp3',\n",
    "        'files/miriam-merkel.mp3', 'files/ballweg-an-attila.mp3', 'files/nana-kritik.mp3',\n",
    "        'files/samuel-drosten.mp3', 'files/bodo-weint.mp3', 'files/markus.mp3',\n",
    "        'files/ken.mp3', 'files/sebastian.mp3', 'files/milena.mp3',\n",
    "        'files/wolfgang.mp3', 'files/fuellmich.mp3', 'files/ludwig.mp3',\n",
    "        'files/friedemann.mp3', 'files/alexander.mp3', 'files/wodarg.mp3',\n",
    "        'files/herman.mp3', 'files/oliver.mp3', 'files/thorsten.mp3']\n",
    "\n",
    "relative_range = [12.588235294117647, 12.588235294117647, 6.882352941176471, 13.529411764705882, 4.588235294117647,\n",
    "                  9.882352941176471, 8.941176470588236, 9.882352941176471, 5.294117647058823, 11.058823529411764,\n",
    "                  9.882352941176471, 9.882352941176471, 9.882352941176471, 9.470588235294118, 5.294117647058823,\n",
    "                  6.882352941176471, 8.0, 8.0, 5.9411764705882355, 5.9411764705882355, 6.529411764705882,\n",
    "                  15.117647058823529, 15.764705882352942, 8.764705882352942]\n",
    "\n",
    "relative_pos = [[30, 33], [30, 54], [69, 77], [41, 45], [52, 75], [42, 67], [46, 81], [60, 37], [63, 54], [77, 56],\n",
    "                [87, 59], [71, 40], [56, 58], [61, 82], [63, 69], [82, 69], [61, 15], [66, 27], [70, 17], [86, 39],\n",
    "                [46, 13], [17, 45], [20, 70], [48, 30]]\n",
    "\n",
    "reverse_pos = relative_pos[::-1]"
   ]
  },
  {
   "cell_type": "code",
   "execution_count": 131,
   "metadata": {},
   "outputs": [
    {
     "name": "stdout",
     "output_type": "stream",
     "text": [
      "[[48, 30], [20, 70], [17, 45], [46, 13], [86, 39], [70, 17], [66, 27], [61, 15], [82, 69], [63, 69], [61, 82], [56, 58], [71, 40], [87, 59], [77, 56], [63, 54], [60, 37], [46, 81], [42, 67], [52, 75], [41, 45], [69, 77], [30, 54], [30, 33]]\n",
      "[[30, 33], [30, 54], [69, 77], [41, 45], [52, 75], [42, 67], [46, 81], [60, 37], [63, 54], [77, 56], [87, 59], [71, 40], [56, 58], [61, 82], [63, 69], [82, 69], [61, 15], [66, 27], [70, 17], [86, 39], [46, 13], [17, 45], [20, 70], [48, 30]]\n"
     ]
    }
   ],
   "source": [
    "print(reverse)\n",
    "print(relative_pos)"
   ]
  },
  {
   "cell_type": "code",
   "execution_count": 132,
   "metadata": {},
   "outputs": [],
   "source": [
    "# Convert Lists to Dictionary\n",
    "# Using list comprehension + zip()\n",
    "JUL = [{a: {'channel': b, 'path': c, 'range': d, 'pos': e}} for (a, b, c, d, e) in zip(names, channels, paths, relative_range, relative_pos)]\n",
    "AUG = [{a: {'channel': b, 'path': c, 'range': d, 'pos': e}} for (a, b, c, d, e) in zip(names, channels, paths, relative_range, reverse_pos)]"
   ]
  },
  {
   "cell_type": "code",
   "execution_count": 134,
   "metadata": {},
   "outputs": [],
   "source": [
    "July = dict()\n",
    "August = dict()\n",
    "\n",
    "for key in JUL:\n",
    "    for k,v in key.items():\n",
    "        # print(k,v)\n",
    "        July[k] = v\n",
    "        \n",
    "for key in AUG:\n",
    "    for k,v in key.items():\n",
    "        # print(k,v)\n",
    "        August[k] = v"
   ]
  },
  {
   "cell_type": "code",
   "execution_count": 135,
   "metadata": {},
   "outputs": [],
   "source": [
    "import json"
   ]
  },
  {
   "cell_type": "code",
   "execution_count": 146,
   "metadata": {},
   "outputs": [],
   "source": [
    "with open('public/json/July.json', 'w') as json_file:\n",
    "    json.dump(July, json_file) "
   ]
  },
  {
   "cell_type": "code",
   "execution_count": 148,
   "metadata": {},
   "outputs": [],
   "source": [
    "with open('public/json/August.json', 'w') as json_file:\n",
    "    json.dump(August, json_file) "
   ]
  },
  {
   "cell_type": "code",
   "execution_count": null,
   "metadata": {},
   "outputs": [],
   "source": []
  }
 ],
 "metadata": {
  "kernelspec": {
   "display_name": "Python 3",
   "language": "python",
   "name": "python3"
  },
  "language_info": {
   "codemirror_mode": {
    "name": "ipython",
    "version": 3
   },
   "file_extension": ".py",
   "mimetype": "text/x-python",
   "name": "python",
   "nbconvert_exporter": "python",
   "pygments_lexer": "ipython3",
   "version": "3.8.3"
  }
 },
 "nbformat": 4,
 "nbformat_minor": 4
}
